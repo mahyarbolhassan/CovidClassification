{
 "cells": [
  {
   "cell_type": "code",
   "execution_count": 1,
   "metadata": {},
   "outputs": [
    {
     "data": {
      "text/html": [
       "<div>\n",
       "<style scoped>\n",
       "    .dataframe tbody tr th:only-of-type {\n",
       "        vertical-align: middle;\n",
       "    }\n",
       "\n",
       "    .dataframe tbody tr th {\n",
       "        vertical-align: top;\n",
       "    }\n",
       "\n",
       "    .dataframe thead th {\n",
       "        text-align: right;\n",
       "    }\n",
       "</style>\n",
       "<table border=\"1\" class=\"dataframe\">\n",
       "  <thead>\n",
       "    <tr style=\"text-align: right;\">\n",
       "      <th></th>\n",
       "      <th>Unnamed: 0</th>\n",
       "      <th>X_ray_image_name</th>\n",
       "      <th>Label</th>\n",
       "      <th>Dataset_type</th>\n",
       "      <th>Label_2_Virus_category</th>\n",
       "      <th>Label_1_Virus_category</th>\n",
       "    </tr>\n",
       "  </thead>\n",
       "  <tbody>\n",
       "    <tr>\n",
       "      <th>0</th>\n",
       "      <td>0</td>\n",
       "      <td>IM-0128-0001.jpeg</td>\n",
       "      <td>Normal</td>\n",
       "      <td>TRAIN</td>\n",
       "      <td>NaN</td>\n",
       "      <td>Normal</td>\n",
       "    </tr>\n",
       "    <tr>\n",
       "      <th>1</th>\n",
       "      <td>1</td>\n",
       "      <td>IM-0127-0001.jpeg</td>\n",
       "      <td>Normal</td>\n",
       "      <td>TRAIN</td>\n",
       "      <td>NaN</td>\n",
       "      <td>Normal</td>\n",
       "    </tr>\n",
       "    <tr>\n",
       "      <th>2</th>\n",
       "      <td>2</td>\n",
       "      <td>IM-0125-0001.jpeg</td>\n",
       "      <td>Normal</td>\n",
       "      <td>TRAIN</td>\n",
       "      <td>NaN</td>\n",
       "      <td>Normal</td>\n",
       "    </tr>\n",
       "    <tr>\n",
       "      <th>3</th>\n",
       "      <td>3</td>\n",
       "      <td>IM-0122-0001.jpeg</td>\n",
       "      <td>Normal</td>\n",
       "      <td>TRAIN</td>\n",
       "      <td>NaN</td>\n",
       "      <td>Normal</td>\n",
       "    </tr>\n",
       "    <tr>\n",
       "      <th>4</th>\n",
       "      <td>4</td>\n",
       "      <td>IM-0119-0001.jpeg</td>\n",
       "      <td>Normal</td>\n",
       "      <td>TRAIN</td>\n",
       "      <td>NaN</td>\n",
       "      <td>Normal</td>\n",
       "    </tr>\n",
       "    <tr>\n",
       "      <th>...</th>\n",
       "      <td>...</td>\n",
       "      <td>...</td>\n",
       "      <td>...</td>\n",
       "      <td>...</td>\n",
       "      <td>...</td>\n",
       "      <td>...</td>\n",
       "    </tr>\n",
       "    <tr>\n",
       "      <th>5905</th>\n",
       "      <td>5928</td>\n",
       "      <td>person1637_virus_2834.jpeg</td>\n",
       "      <td>Pnemonia</td>\n",
       "      <td>TEST</td>\n",
       "      <td>NaN</td>\n",
       "      <td>Virus</td>\n",
       "    </tr>\n",
       "    <tr>\n",
       "      <th>5906</th>\n",
       "      <td>5929</td>\n",
       "      <td>person1635_virus_2831.jpeg</td>\n",
       "      <td>Pnemonia</td>\n",
       "      <td>TEST</td>\n",
       "      <td>NaN</td>\n",
       "      <td>Virus</td>\n",
       "    </tr>\n",
       "    <tr>\n",
       "      <th>5907</th>\n",
       "      <td>5930</td>\n",
       "      <td>person1634_virus_2830.jpeg</td>\n",
       "      <td>Pnemonia</td>\n",
       "      <td>TEST</td>\n",
       "      <td>NaN</td>\n",
       "      <td>Virus</td>\n",
       "    </tr>\n",
       "    <tr>\n",
       "      <th>5908</th>\n",
       "      <td>5931</td>\n",
       "      <td>person1633_virus_2829.jpeg</td>\n",
       "      <td>Pnemonia</td>\n",
       "      <td>TEST</td>\n",
       "      <td>NaN</td>\n",
       "      <td>Virus</td>\n",
       "    </tr>\n",
       "    <tr>\n",
       "      <th>5909</th>\n",
       "      <td>5932</td>\n",
       "      <td>person1632_virus_2827.jpeg</td>\n",
       "      <td>Pnemonia</td>\n",
       "      <td>TEST</td>\n",
       "      <td>NaN</td>\n",
       "      <td>Virus</td>\n",
       "    </tr>\n",
       "  </tbody>\n",
       "</table>\n",
       "<p>5910 rows × 6 columns</p>\n",
       "</div>"
      ],
      "text/plain": [
       "      Unnamed: 0            X_ray_image_name     Label Dataset_type  \\\n",
       "0              0           IM-0128-0001.jpeg    Normal        TRAIN   \n",
       "1              1           IM-0127-0001.jpeg    Normal        TRAIN   \n",
       "2              2           IM-0125-0001.jpeg    Normal        TRAIN   \n",
       "3              3           IM-0122-0001.jpeg    Normal        TRAIN   \n",
       "4              4           IM-0119-0001.jpeg    Normal        TRAIN   \n",
       "...          ...                         ...       ...          ...   \n",
       "5905        5928  person1637_virus_2834.jpeg  Pnemonia         TEST   \n",
       "5906        5929  person1635_virus_2831.jpeg  Pnemonia         TEST   \n",
       "5907        5930  person1634_virus_2830.jpeg  Pnemonia         TEST   \n",
       "5908        5931  person1633_virus_2829.jpeg  Pnemonia         TEST   \n",
       "5909        5932  person1632_virus_2827.jpeg  Pnemonia         TEST   \n",
       "\n",
       "     Label_2_Virus_category Label_1_Virus_category  \n",
       "0                       NaN                 Normal  \n",
       "1                       NaN                 Normal  \n",
       "2                       NaN                 Normal  \n",
       "3                       NaN                 Normal  \n",
       "4                       NaN                 Normal  \n",
       "...                     ...                    ...  \n",
       "5905                    NaN                  Virus  \n",
       "5906                    NaN                  Virus  \n",
       "5907                    NaN                  Virus  \n",
       "5908                    NaN                  Virus  \n",
       "5909                    NaN                  Virus  \n",
       "\n",
       "[5910 rows x 6 columns]"
      ]
     },
     "execution_count": 1,
     "metadata": {},
     "output_type": "execute_result"
    }
   ],
   "source": [
    "import pandas as pd\n",
    "import numpy as np\n",
    "data = pd.read_csv(\"data/Chest_xray_Corona_Metadata.csv\")\n",
    "data"
   ]
  },
  {
   "cell_type": "code",
   "execution_count": 2,
   "metadata": {},
   "outputs": [],
   "source": [
    "from typing import Optional, Sequence\n",
    "\n",
    "import torch\n",
    "import torch.nn as nn\n",
    "import torch.nn.functional as F\n",
    "import os\n",
    "import time\n",
    "import torchvision\n",
    "from PIL import ImageFile\n",
    "import matplotlib.pyplot as plt\n",
    "import cv2\n",
    "from torch.optim.lr_scheduler import StepLR\n",
    "import random\n",
    "import copy\n",
    "from torch.utils.data import random_split\n",
    "import torchvision\n",
    "from torch.autograd import Variable\n",
    "import torch.utils.data\n",
    "from torchvision import datasets, transforms, models\n",
    "from torch.utils.data import DataLoader, Dataset, TensorDataset\n",
    "import torch.optim as optim\n",
    "from torch.optim import lr_scheduler\n",
    "from torch.utils.data.sampler import SubsetRandomSampler, WeightedRandomSampler\n",
    "from torchvision.datasets import ImageFolder\n",
    "from sklearn.model_selection import train_test_split\n",
    "from sklearn.metrics import classification_report, confusion_matrix\n",
    "from torch import Tensor\n"
   ]
  },
  {
   "cell_type": "markdown",
   "metadata": {},
   "source": [
    "# Setting path"
   ]
  },
  {
   "cell_type": "code",
   "execution_count": 3,
   "metadata": {},
   "outputs": [
    {
     "name": "stdout",
     "output_type": "stream",
     "text": [
      "3.7.7 (default, May  7 2020, 21:25:33) \n",
      "[GCC 7.3.0]\n",
      "/home/ilkay/Documents/mahyar/ChestXrays/train1\n"
     ]
    }
   ],
   "source": [
    "import sys\n",
    "print(sys.version)\n",
    "data_dir = os.getcwd()\n",
    "# data_dir = '/home/ilkay/Documents/mahyar/ChestXrays'\n",
    "train_dir = data_dir + '/train1' #contains training images\n",
    "test_dir = data_dir + '/test1'\n",
    "val_dir = data_dir + '/val1'\n",
    "\n",
    "print(train_dir)"
   ]
  },
  {
   "cell_type": "markdown",
   "metadata": {},
   "source": [
    "# Data loader"
   ]
  },
  {
   "cell_type": "code",
   "execution_count": 4,
   "metadata": {},
   "outputs": [],
   "source": [
    "image_size = 224\n",
    "train_transforms = transforms.Compose([\n",
    "            transforms.Resize((image_size,image_size)),\n",
    "            torchvision.transforms.RandomHorizontalFlip(p=0.5),\n",
    "            torchvision.transforms.RandomVerticalFlip(p=0.5),\n",
    "            torchvision.transforms.RandomRotation(30),\n",
    "            transforms.ToTensor(),\n",
    "            transforms.Normalize((0.485, 0.456, 0.406), (0.229, 0.224, 0.225))\n",
    "        ])\n",
    "\n",
    "test_transforms = transforms.Compose([\n",
    "            transforms.Resize((224,224)),\n",
    "            transforms.ToTensor(),\n",
    "            transforms.Normalize((0.485, 0.456, 0.406), (0.229, 0.224, 0.225))\n",
    "        ])\n",
    "val_transforms = transforms.Compose([\n",
    "            transforms.Resize((224,224)),\n",
    "            transforms.ToTensor(),\n",
    "            transforms.Normalize((0.485, 0.456, 0.406), (0.229, 0.224, 0.225))\n",
    "        ])\n",
    "train_dataset = ImageFolder(train_dir, train_transforms)\n",
    "test_dataset = ImageFolder(test_dir, test_transforms)\n",
    "val_dataset = ImageFolder(val_dir, val_transforms)\n",
    "\n",
    "# train_loader = DataLoader(dataset=train_dataset, batch_size=batch_size, num_workers=1, shuffle=True)\n",
    "# test_loader = DataLoader(dataset=test_dataset, batch_size=batch_size, num_workers=1, shuffle=False)\n",
    "# val_loader = DataLoader(dataset=val_dataset, batch_size=batch_size, num_workers=1, shuffle=False)"
   ]
  },
  {
   "cell_type": "code",
   "execution_count": 5,
   "metadata": {},
   "outputs": [],
   "source": [
    "batch_size = 8 \n",
    "\n",
    "train_loader = DataLoader(dataset=train_dataset, batch_size=batch_size, num_workers=1, shuffle=True)\n",
    "test_loader = DataLoader(dataset=test_dataset, batch_size=batch_size, num_workers=1, shuffle=False)\n",
    "val_loader = DataLoader(dataset=val_dataset, batch_size=batch_size, num_workers=1, shuffle=False)"
   ]
  },
  {
   "cell_type": "markdown",
   "metadata": {},
   "source": [
    "# Loading the model"
   ]
  },
  {
   "cell_type": "code",
   "execution_count": 13,
   "metadata": {},
   "outputs": [],
   "source": [
    "import torchvision.models as models\n",
    "import re\n",
    "n_classes = 4\n",
    "densenet = models.densenet121()\n",
    "model.classifier = nn.Linear(1024, n_classes)\n",
    "densenet = models.densenet121(pretrained=False).cuda()\n",
    "model = densenet\n",
    "model.classifier = nn.Linear(1024, n_classes)\n",
    "path_pth = data_dir + 'model.pth.tar'\n",
    "checkpoint = torch.load('./model.pth.tar')\n",
    "state_dict = checkpoint['state_dict']\n",
    "remove_data_parallel = False # Change if you don’t want to use nn.DataParallel(model)\n",
    "\n",
    "pattern = re.compile(\n",
    "r'^(.*denselayer\\d+.(?:norm|relu|conv)).((?:[12]).(?:weight|bias|running_mean|running_var))$')\n",
    "for key in list(state_dict.keys()):\n",
    "    match = pattern.match(key)\n",
    "new_key = match.group(1) + match.group(2) if match else key\n",
    "new_key = new_key[7:] if remove_data_parallel else new_key\n",
    "state_dict[new_key] = state_dict[key]\n",
    "# Delete old key only if modified.\n",
    "if match or remove_data_parallel:\n",
    "    del state_dict[key]\n",
    "\n",
    "\n",
    "# model.load_state_dict(torch.load('model.pth.tar')['state_dict'])\n",
    "\n",
    "# print(model)\n",
    "\n",
    "# model.load_state_dict(torch.load(path_pth))"
   ]
  },
  {
   "cell_type": "code",
   "execution_count": 29,
   "metadata": {},
   "outputs": [],
   "source": [
    "# model = torch.load(path_pth)"
   ]
  },
  {
   "cell_type": "markdown",
   "metadata": {},
   "source": [
    "# MultiClass Focal Loss implementation"
   ]
  },
  {
   "cell_type": "markdown",
   "metadata": {},
   "source": [
    "# Multi calss accuracy implementation"
   ]
  },
  {
   "cell_type": "code",
   "execution_count": 15,
   "metadata": {},
   "outputs": [],
   "source": [
    "def multi_acc(y_pred, y_test):\n",
    "    y_pred_softmax = torch.log_softmax(y_pred, dim = 1)\n",
    "    _, y_pred_tags = torch.max(y_pred_softmax, dim = 1)    \n",
    "    \n",
    "    correct_pred = (y_pred_tags == y_test).float()\n",
    "    acc = correct_pred.sum() / len(correct_pred)\n",
    "    \n",
    "    acc = torch.round(acc) * 100\n",
    "    \n",
    "    return acc"
   ]
  },
  {
   "cell_type": "markdown",
   "metadata": {},
   "source": [
    "# Hyperparameter setup"
   ]
  },
  {
   "cell_type": "code",
   "execution_count": 16,
   "metadata": {},
   "outputs": [],
   "source": [
    "###  Here are some training parameters which you can tweak\n",
    "# Device configuration\n",
    "#device = torch.device('cuda:0')\n",
    "device = torch.device('cuda:0' if torch.cuda.is_available() else 'cpu')\n",
    "learning_rate = 1e-3\n",
    "regularization_rate = 0\n",
    "# n_epochs = 1\n",
    "use_gpu = True\n",
    "test_every = 3\n",
    "###\n",
    "# model = resnet.to(device)\n",
    "\n",
    "# FL = FocalLoss(gamma = 2)\n",
    "# criterion = nn.CrossEntropyLoss(weight=class_weights.to(device))\n",
    "FL = nn.CrossEntropyLoss()\n",
    "\n",
    "optimizer = torch.optim.Adam(model.parameters(), lr=learning_rate)\n",
    "scheduler = StepLR(optimizer, step_size=10, gamma=0.8)\n",
    "# fl = FocalLoss()\n",
    "# criteria = fl()"
   ]
  },
  {
   "cell_type": "code",
   "execution_count": 17,
   "metadata": {},
   "outputs": [],
   "source": [
    "accuracy_stats = {\n",
    "    'train': [],\n",
    "    \"val\": []\n",
    "}\n",
    "loss_stats = {\n",
    "    'train': [],\n",
    "    \"val\": []\n",
    "}"
   ]
  },
  {
   "cell_type": "markdown",
   "metadata": {},
   "source": [
    "# Training"
   ]
  },
  {
   "cell_type": "code",
   "execution_count": 18,
   "metadata": {
    "scrolled": true
   },
   "outputs": [
    {
     "name": "stdout",
     "output_type": "stream",
     "text": [
      "Begin training.\n"
     ]
    },
    {
     "data": {
      "application/vnd.jupyter.widget-view+json": {
       "model_id": "d86bbf5a7ab74676b5cd9eaaac3d0590",
       "version_major": 2,
       "version_minor": 0
      },
      "text/plain": [
       "  0%|          | 0/20 [00:00<?, ?it/s]"
      ]
     },
     "metadata": {},
     "output_type": "display_data"
    },
    {
     "name": "stdout",
     "output_type": "stream",
     "text": [
      "Epoch: 1 LR: [0.001]\n"
     ]
    },
    {
     "name": "stderr",
     "output_type": "stream",
     "text": [
      "/home/ilkay/miniconda3/envs/covid/lib/python3.7/site-packages/torch/optim/lr_scheduler.py:136: UserWarning: Detected call of `lr_scheduler.step()` before `optimizer.step()`. In PyTorch 1.1.0 and later, you should call them in the opposite order: `optimizer.step()` before `lr_scheduler.step()`.  Failure to do this will result in PyTorch skipping the first value of the learning rate schedule. See more details at https://pytorch.org/docs/stable/optim.html#how-to-adjust-learning-rate\n",
      "  \"https://pytorch.org/docs/stable/optim.html#how-to-adjust-learning-rate\", UserWarning)\n",
      "/home/ilkay/miniconda3/envs/covid/lib/python3.7/site-packages/torch/optim/lr_scheduler.py:370: UserWarning: To get the last learning rate computed by the scheduler, please use `get_last_lr()`.\n",
      "  \"please use `get_last_lr()`.\", UserWarning)\n"
     ]
    },
    {
     "name": "stdout",
     "output_type": "stream",
     "text": [
      "Epoch 001: | Train Loss: 0.85294 | Val Loss: 0.89291 | Train Acc: 67.040| Val Acc: 66.250\n",
      "Epoch: 2 LR: [0.001]\n",
      "Epoch 002: | Train Loss: 0.73873 | Val Loss: 0.80720 | Train Acc: 74.720| Val Acc: 66.250\n",
      "Epoch: 3 LR: [0.001]\n",
      "Epoch 003: | Train Loss: 0.69676 | Val Loss: 1.07542 | Train Acc: 82.560| Val Acc: 62.500\n",
      "Epoch: 4 LR: [0.001]\n",
      "Epoch 004: | Train Loss: 0.66957 | Val Loss: 0.66215 | Train Acc: 84.160| Val Acc: 81.250\n",
      "Epoch: 5 LR: [0.001]\n",
      "Epoch 005: | Train Loss: 0.62911 | Val Loss: 0.84283 | Train Acc: 84.640| Val Acc: 80.000\n",
      "Epoch: 6 LR: [0.001]\n",
      "Epoch 006: | Train Loss: 0.61078 | Val Loss: 1.13084 | Train Acc: 89.440| Val Acc: 57.500\n",
      "Epoch: 7 LR: [0.001]\n",
      "Epoch 007: | Train Loss: 0.59063 | Val Loss: 0.73670 | Train Acc: 88.320| Val Acc: 83.750\n",
      "Epoch: 8 LR: [0.001]\n",
      "Epoch 008: | Train Loss: 0.57376 | Val Loss: 0.63658 | Train Acc: 88.000| Val Acc: 86.250\n",
      "Epoch: 9 LR: [0.001]\n",
      "Epoch 009: | Train Loss: 0.57880 | Val Loss: 0.74314 | Train Acc: 88.000| Val Acc: 82.500\n",
      "Epoch: 10 LR: [0.00064]\n",
      "Epoch 010: | Train Loss: 0.54347 | Val Loss: 0.64543 | Train Acc: 90.240| Val Acc: 85.000\n",
      "Epoch: 11 LR: [0.0008]\n",
      "Epoch 011: | Train Loss: 0.54275 | Val Loss: 0.61991 | Train Acc: 90.880| Val Acc: 87.500\n",
      "Epoch: 12 LR: [0.0008]\n",
      "Epoch 012: | Train Loss: 0.52913 | Val Loss: 0.89942 | Train Acc: 91.520| Val Acc: 61.250\n",
      "Epoch: 13 LR: [0.0008]\n",
      "Epoch 013: | Train Loss: 0.51834 | Val Loss: 0.92238 | Train Acc: 92.320| Val Acc: 77.500\n",
      "Epoch: 14 LR: [0.0008]\n",
      "Epoch 014: | Train Loss: 0.51263 | Val Loss: 0.93087 | Train Acc: 91.840| Val Acc: 65.000\n",
      "Epoch: 15 LR: [0.0008]\n",
      "Epoch 015: | Train Loss: 0.50820 | Val Loss: 0.79474 | Train Acc: 92.000| Val Acc: 75.000\n",
      "Epoch: 16 LR: [0.0008]\n",
      "Epoch 016: | Train Loss: 0.50961 | Val Loss: 0.84721 | Train Acc: 92.800| Val Acc: 77.500\n",
      "Epoch: 17 LR: [0.0008]\n",
      "Epoch 017: | Train Loss: 0.49981 | Val Loss: 0.73056 | Train Acc: 92.480| Val Acc: 85.000\n",
      "Epoch: 18 LR: [0.0008]\n",
      "Epoch 018: | Train Loss: 0.49360 | Val Loss: 1.20050 | Train Acc: 93.120| Val Acc: 50.000\n",
      "Epoch: 19 LR: [0.0008]\n",
      "Epoch 019: | Train Loss: 0.49137 | Val Loss: 1.04132 | Train Acc: 93.440| Val Acc: 71.250\n",
      "Epoch: 20 LR: [0.0005120000000000001]\n",
      "Epoch 020: | Train Loss: 0.46939 | Val Loss: 0.87473 | Train Acc: 91.520| Val Acc: 76.250\n",
      "End training\n"
     ]
    }
   ],
   "source": [
    "\n",
    "from tqdm.notebook import tqdm\n",
    "n_epochs = 20\n",
    "learning_rate = 1e-3\n",
    "\n",
    "total_step = len(train_loader)\n",
    "\n",
    "print(\"Begin training.\")\n",
    "for e in tqdm(range(1, n_epochs+1)):\n",
    "    train_epoch_loss = 0\n",
    "    train_epoch_acc = 0\n",
    "    \n",
    "    model.train()\n",
    "    if use_gpu:\n",
    "        model.cuda()\n",
    "        FL.cuda()\n",
    "\n",
    "#     for epoch in range(n_epochs):\n",
    "    train_epoch_loss = 0\n",
    "    train_epoch_acc = 0\n",
    "    scheduler.step()\n",
    "    print('Epoch:', e,'LR:', scheduler.get_lr())\n",
    "    for ix, data in enumerate(train_loader):\n",
    "        model.zero_grad()\n",
    "        img, label = data\n",
    "        images = img.to(device)\n",
    "        labels = label.to(device)\n",
    "        optimizer.zero_grad()\n",
    "\n",
    "        outputs = model(images)\n",
    "\n",
    "        train_loss = FL(outputs, labels)\n",
    "        train_acc = multi_acc(outputs, labels)\n",
    "       \n",
    "        train_loss.backward()\n",
    "        optimizer.step()\n",
    "        train_epoch_loss += train_loss.item()\n",
    "        train_epoch_acc += train_acc.item()\n",
    "        # To monitor the training process we print or log some useful values \n",
    "#         if (ix+1) % 10 == 0:\n",
    "#             print ('Epoch [{}/{}], Step [{}/{}], Loss: {:.4f}, Train_acc:{:.4f}' \n",
    "#                    .format(epoch+1, n_epochs, ix+1, train_loss.item()), train_acc)\n",
    "#   \n",
    "    with torch.no_grad():\n",
    "        val_epoch_loss = 0\n",
    "        val_epoch_acc = 0\n",
    "        model.eval()\n",
    "        for iy, data_ in enumerate(val_loader):\n",
    "            img_, label_ = data_\n",
    "            images_ = img_.to(device)\n",
    "            labels_ = label_.to(device)\n",
    "\n",
    "            outputs_ = model(images_)\n",
    "            val_loss = FL(outputs_, labels_)\n",
    "\n",
    "#             _, predicted = torch.max(outputs_.data, dim = 1)\n",
    "            val_acc = multi_acc(outputs_, labels_)\n",
    "            val_epoch_loss += val_loss.item()\n",
    "            val_epoch_acc += val_acc.item()\n",
    "    loss_stats['train'].append(train_epoch_loss/len(train_loader))\n",
    "    loss_stats['val'].append(val_epoch_loss/len(val_loader))\n",
    "    accuracy_stats['train'].append(train_epoch_acc/len(train_loader))\n",
    "    accuracy_stats['val'].append(val_epoch_acc/len(val_loader))\n",
    "    print(f'Epoch {e+0:03}: | Train Loss: {train_epoch_loss/len(train_loader):.5f} | Val Loss: {val_epoch_loss/len(val_loader):.5f} | Train Acc: {train_epoch_acc/len(train_loader):.3f}| Val Acc: {val_epoch_acc/len(val_loader):.3f}')\n",
    "print(\"End training\") "
   ]
  },
  {
   "cell_type": "code",
   "execution_count": 19,
   "metadata": {},
   "outputs": [
    {
     "data": {
      "text/plain": [
       "Text(0.5, 1.0, 'Train-Val Loss/Epoch')"
      ]
     },
     "execution_count": 19,
     "metadata": {},
     "output_type": "execute_result"
    },
    {
     "data": {
      "image/png": "[encoded data removed]",
      "text/plain": [
       "<Figure size 1440x504 with 2 Axes>"
      ]
     },
     "metadata": {
      "needs_background": "light"
     },
     "output_type": "display_data"
    }
   ],
   "source": [
    "import seaborn as sns\n",
    "\n",
    "# Create dataframes\n",
    "train_val_acc_df = pd.DataFrame.from_dict(accuracy_stats).reset_index().melt(id_vars=['index']).rename(columns={\"index\":\"epochs\"})\n",
    "train_val_loss_df = pd.DataFrame.from_dict(loss_stats).reset_index().melt(id_vars=['index']).rename(columns={\"index\":\"epochs\"})\n",
    "# Plot the dataframes\n",
    "fig, axes = plt.subplots(nrows=1, ncols=2, figsize=(20,7))\n",
    "sns.lineplot(data=train_val_acc_df, x = \"epochs\", y=\"value\", hue=\"variable\",  ax=axes[0]).set_title('Train-Val Accuracy/Epoch')\n",
    "sns.lineplot(data=train_val_loss_df, x = \"epochs\", y=\"value\", hue=\"variable\", ax=axes[1]).set_title('Train-Val Loss/Epoch')"
   ]
  },
  {
   "cell_type": "code",
   "execution_count": 20,
   "metadata": {},
   "outputs": [],
   "source": [
    "y_pred_list = []\n",
    "test_epoch_loss = 0\n",
    "test_epoch_acc = 0\n",
    "with torch.no_grad():\n",
    "    model.eval()\n",
    "    for X_batch, Y_batch in test_loader:\n",
    "        X_batch = X_batch.to(device)\n",
    "        Y_batch = Y_batch.to(device)\n",
    "        y_test_pred = model(X_batch)\n",
    "        test_loss = FL(y_test_pred, Y_batch)\n",
    "\n",
    "        test_acc = multi_acc(y_test_pred, Y_batch)\n",
    "        test_epoch_loss += test_loss.item()\n",
    "        test_epoch_acc += test_acc.item()\n",
    "        _, y_pred_tags = torch.max(y_test_pred, dim = 1)\n",
    "        y_pred_list.append(y_pred_tags.cpu().numpy())\n",
    "y_pred_list = [a.squeeze().tolist() for a in y_pred_list]"
   ]
  },
  {
   "cell_type": "code",
   "execution_count": 21,
   "metadata": {
    "scrolled": true
   },
   "outputs": [
    {
     "name": "stdout",
     "output_type": "stream",
     "text": [
      "average_acc_train:  87.952\n",
      "average_acc_val:  73.875\n"
     ]
    }
   ],
   "source": [
    "print('average_acc_train: ',np.array(accuracy_stats['train']).sum()/20)\n",
    "# accuracy_stats['val'].append(val_epoch_acc/len(val_loader))\n",
    "print('average_acc_val: ',np.array(accuracy_stats['val']).sum()/20)\n"
   ]
  },
  {
   "cell_type": "code",
   "execution_count": 22,
   "metadata": {},
   "outputs": [
    {
     "name": "stdout",
     "output_type": "stream",
     "text": [
      "75.55555555555556\n"
     ]
    }
   ],
   "source": [
    "print(test_epoch_acc/len(test_loader))"
   ]
  },
  {
   "cell_type": "code",
   "execution_count": null,
   "metadata": {},
   "outputs": [],
   "source": []
  }
 ],
 "metadata": {
  "kernelspec": {
   "display_name": "covid",
   "language": "python",
   "name": "covid"
  },
  "language_info": {
   "codemirror_mode": {
    "name": "ipython",
    "version": 3
   },
   "file_extension": ".py",
   "mimetype": "text/x-python",
   "name": "python",
   "nbconvert_exporter": "python",
   "pygments_lexer": "ipython3",
   "version": "3.7.7"
  }
 },
 "nbformat": 4,
 "nbformat_minor": 2
}
